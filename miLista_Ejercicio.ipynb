{
  "nbformat": 4,
  "nbformat_minor": 0,
  "metadata": {
    "colab": {
      "provenance": [],
      "include_colab_link": true
    },
    "kernelspec": {
      "name": "python3",
      "display_name": "Python 3"
    }
  },
  "cells": [
    {
      "cell_type": "markdown",
      "metadata": {
        "id": "view-in-github",
        "colab_type": "text"
      },
      "source": [
        "<a href=\"https://colab.research.google.com/github/bernaldiaz/Curso-Python-Google-Colab/blob/master/miLista_Ejercicio.ipynb\" target=\"_parent\"><img src=\"https://colab.research.google.com/assets/colab-badge.svg\" alt=\"Open In Colab\"/></a>"
      ]
    },
    {
      "cell_type": "markdown",
      "metadata": {
        "id": "Cjs88IwlbaLM"
      },
      "source": [
        "Crea una lista a partir de los elementos contenidos de las siguientes variables. \n",
        "\n",
        "Usa los métodos que mejor convenga.\n",
        "\n",
        "\n",
        "\n",
        "```\n",
        "a = 1\n",
        "b = [2, 3, 4]\n",
        "c = [5]\n",
        "d = 6\n",
        "```\n",
        "\n"
      ]
    },
    {
      "cell_type": "code",
      "source": [
        "a = 1\n",
        "b = [2, 3, 4]\n",
        "c = [5]\n",
        "d = 6"
      ],
      "metadata": {
        "id": "u3FgUpG3-bUh"
      },
      "execution_count": 7,
      "outputs": []
    },
    {
      "cell_type": "code",
      "source": [
        "b.insert(0,a)\n",
        "b"
      ],
      "metadata": {
        "colab": {
          "base_uri": "https://localhost:8080/"
        },
        "id": "-4iu2Lzs_Ct2",
        "outputId": "a2b40489-44dc-43b1-8932-25f130bfbb61"
      },
      "execution_count": 8,
      "outputs": [
        {
          "output_type": "execute_result",
          "data": {
            "text/plain": [
              "[1, 2, 3, 4]"
            ]
          },
          "metadata": {},
          "execution_count": 8
        }
      ]
    },
    {
      "cell_type": "code",
      "source": [
        "b.extend(c)\n",
        "b"
      ],
      "metadata": {
        "colab": {
          "base_uri": "https://localhost:8080/"
        },
        "id": "qRCLv1iq_VYv",
        "outputId": "2bfde7bc-f1bf-4e87-9b70-f347b2824827"
      },
      "execution_count": 9,
      "outputs": [
        {
          "output_type": "execute_result",
          "data": {
            "text/plain": [
              "[1, 2, 3, 4, 5]"
            ]
          },
          "metadata": {},
          "execution_count": 9
        }
      ]
    },
    {
      "cell_type": "code",
      "source": [
        "b.append(d)\n",
        "b"
      ],
      "metadata": {
        "colab": {
          "base_uri": "https://localhost:8080/"
        },
        "id": "vmNTPjfH_j8E",
        "outputId": "2287fdca-d2b1-4ebe-e1fe-57853deebfa7"
      },
      "execution_count": 10,
      "outputs": [
        {
          "output_type": "execute_result",
          "data": {
            "text/plain": [
              "[1, 2, 3, 4, 5, 6]"
            ]
          },
          "metadata": {},
          "execution_count": 10
        }
      ]
    },
    {
      "cell_type": "code",
      "source": [
        " #Hallar el índice de la primera ocurrencia del número mayor de la siguiente lista:\n",
        "\n",
        "numeros = [43, 27, 58, 12, 39, 58, 54, 33, 23, 12, 39, 91, 12, 45, 91, 23, 53, 61]\n",
        "numeros.index(max(numeros))"
      ],
      "metadata": {
        "colab": {
          "base_uri": "https://localhost:8080/"
        },
        "id": "asjRRvPSBAR1",
        "outputId": "51d7b584-5e43-40aa-bbf5-e7c6fc547ecf"
      },
      "execution_count": 12,
      "outputs": [
        {
          "output_type": "execute_result",
          "data": {
            "text/plain": [
              "11"
            ]
          },
          "metadata": {},
          "execution_count": 12
        }
      ]
    },
    {
      "cell_type": "code",
      "metadata": {
        "id": "5t5okRfga_J1"
      },
      "source": [
        "a = [1]\n",
        "b = [2, 3, 4]\n",
        "c = [5]\n",
        "d = 6"
      ],
      "execution_count": null,
      "outputs": []
    }
  ]
}