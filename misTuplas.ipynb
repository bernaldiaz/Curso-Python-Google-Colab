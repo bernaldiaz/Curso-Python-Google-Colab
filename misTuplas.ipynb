{
  "nbformat": 4,
  "nbformat_minor": 0,
  "metadata": {
    "colab": {
      "provenance": [],
      "include_colab_link": true
    },
    "kernelspec": {
      "name": "python3",
      "display_name": "Python 3"
    }
  },
  "cells": [
    {
      "cell_type": "markdown",
      "metadata": {
        "id": "view-in-github",
        "colab_type": "text"
      },
      "source": [
        "<a href=\"https://colab.research.google.com/github/bernaldiaz/Curso-Python-Google-Colab/blob/master/misTuplas.ipynb\" target=\"_parent\"><img src=\"https://colab.research.google.com/assets/colab-badge.svg\" alt=\"Open In Colab\"/></a>"
      ]
    },
    {
      "cell_type": "code",
      "metadata": {
        "id": "T01Xqctkwm2Z"
      },
      "source": [
        "tupla = (6, True, 'tupla', 2.1, [1, 2, 3], 6)"
      ],
      "execution_count": 6,
      "outputs": []
    },
    {
      "cell_type": "code",
      "metadata": {
        "id": "Gjir_KZ_ypgp",
        "colab": {
          "base_uri": "https://localhost:8080/",
          "height": 35
        },
        "outputId": "412f0f9b-a586-47c0-c942-64232dfa9a15"
      },
      "source": [
        "type(tupla)"
      ],
      "execution_count": null,
      "outputs": [
        {
          "output_type": "execute_result",
          "data": {
            "text/plain": [
              "tuple"
            ]
          },
          "metadata": {
            "tags": []
          },
          "execution_count": 2
        }
      ]
    },
    {
      "cell_type": "code",
      "metadata": {
        "id": "DgiSNE-ZyrDg",
        "colab": {
          "base_uri": "https://localhost:8080/",
          "height": 35
        },
        "outputId": "e625da24-d0c2-4f32-b166-f5302212a408"
      },
      "source": [
        "tupla.count(6)"
      ],
      "execution_count": null,
      "outputs": [
        {
          "output_type": "execute_result",
          "data": {
            "text/plain": [
              "2"
            ]
          },
          "metadata": {
            "tags": []
          },
          "execution_count": 3
        }
      ]
    },
    {
      "cell_type": "code",
      "metadata": {
        "id": "wVazbhimy9AA",
        "colab": {
          "base_uri": "https://localhost:8080/",
          "height": 35
        },
        "outputId": "e5d3b9d4-1d83-451a-d47d-a1646d4b5e4c"
      },
      "source": [
        "tupla.index(2.1)"
      ],
      "execution_count": null,
      "outputs": [
        {
          "output_type": "execute_result",
          "data": {
            "text/plain": [
              "3"
            ]
          },
          "metadata": {
            "tags": []
          },
          "execution_count": 6
        }
      ]
    },
    {
      "cell_type": "code",
      "metadata": {
        "id": "f7Z9ZKi7zGWE",
        "colab": {
          "base_uri": "https://localhost:8080/",
          "height": 35
        },
        "outputId": "8527b15b-e63f-47ed-bbdd-28e0f4d3cca1"
      },
      "source": [
        "b = (1, 2, 3, 4)\n",
        "c = (5, 6, 7, 8)\n",
        "\n",
        "b + c"
      ],
      "execution_count": null,
      "outputs": [
        {
          "output_type": "execute_result",
          "data": {
            "text/plain": [
              "(1, 2, 3, 4, 5, 6, 7, 8)"
            ]
          },
          "metadata": {
            "tags": []
          },
          "execution_count": 7
        }
      ]
    },
    {
      "cell_type": "code",
      "metadata": {
        "id": "mOGGcxY2zWU0",
        "colab": {
          "base_uri": "https://localhost:8080/",
          "height": 35
        },
        "outputId": "a319de9c-7c95-46b6-c69f-58071e5cef38"
      },
      "source": [
        "c + b"
      ],
      "execution_count": null,
      "outputs": [
        {
          "output_type": "execute_result",
          "data": {
            "text/plain": [
              "(5, 6, 7, 8, 1, 2, 3, 4)"
            ]
          },
          "metadata": {
            "tags": []
          },
          "execution_count": 8
        }
      ]
    },
    {
      "cell_type": "code",
      "metadata": {
        "id": "_3EU4G3-zjbQ",
        "colab": {
          "base_uri": "https://localhost:8080/",
          "height": 35
        },
        "outputId": "7fce83d2-0d12-4212-f934-206847c049bb"
      },
      "source": [
        "c = (([1, 2, 3], True, 'Hola'), (False, 2.5))\n",
        "\n",
        "b + c"
      ],
      "execution_count": null,
      "outputs": [
        {
          "output_type": "execute_result",
          "data": {
            "text/plain": [
              "(1, 2, 3, 4, ([1, 2, 3], True, 'Hola'), (False, 2.5))"
            ]
          },
          "metadata": {
            "tags": []
          },
          "execution_count": 10
        }
      ]
    },
    {
      "cell_type": "code",
      "metadata": {
        "id": "dHJcLfbwz6-s",
        "colab": {
          "base_uri": "https://localhost:8080/",
          "height": 35
        },
        "outputId": "16cd6d0b-c4cd-46fd-8af3-d9c91fbf2be3"
      },
      "source": [
        "e = ([1, 2, 3])\n",
        "print(e)"
      ],
      "execution_count": null,
      "outputs": [
        {
          "output_type": "stream",
          "text": [
            "[1, 2, 3]\n"
          ],
          "name": "stdout"
        }
      ]
    },
    {
      "cell_type": "code",
      "metadata": {
        "id": "PDdo_uRV0HE5"
      },
      "source": [
        "e = (2)"
      ],
      "execution_count": null,
      "outputs": []
    },
    {
      "cell_type": "code",
      "metadata": {
        "id": "KPWV4YC00K_r",
        "colab": {
          "base_uri": "https://localhost:8080/",
          "height": 35
        },
        "outputId": "1198a1ed-4d2c-46bf-eb37-f7cd92a3d0c6"
      },
      "source": [
        "e"
      ],
      "execution_count": null,
      "outputs": [
        {
          "output_type": "execute_result",
          "data": {
            "text/plain": [
              "2"
            ]
          },
          "metadata": {
            "tags": []
          },
          "execution_count": 13
        }
      ]
    },
    {
      "cell_type": "code",
      "metadata": {
        "id": "orPKBhb70Lq5",
        "colab": {
          "base_uri": "https://localhost:8080/",
          "height": 35
        },
        "outputId": "0d5aa3ca-7bbb-4604-e7a9-b03f5f964976"
      },
      "source": [
        "(2 + 2) * (4)"
      ],
      "execution_count": null,
      "outputs": [
        {
          "output_type": "execute_result",
          "data": {
            "text/plain": [
              "16"
            ]
          },
          "metadata": {
            "tags": []
          },
          "execution_count": 14
        }
      ]
    },
    {
      "cell_type": "markdown",
      "source": [
        "Para construir una tupla de un elemento se pone una coma\n"
      ],
      "metadata": {
        "id": "0OeL_LfjbDx7"
      }
    },
    {
      "cell_type": "code",
      "metadata": {
        "id": "eyWcdL3U0ceB"
      },
      "source": [
        "e = ([1, 2, 3],)"
      ],
      "execution_count": 2,
      "outputs": []
    },
    {
      "cell_type": "code",
      "metadata": {
        "id": "TVfqnlbb0k9E",
        "colab": {
          "base_uri": "https://localhost:8080/"
        },
        "outputId": "f29c09d8-4008-42df-9f83-3b8401a2809b"
      },
      "source": [
        "e"
      ],
      "execution_count": 3,
      "outputs": [
        {
          "output_type": "execute_result",
          "data": {
            "text/plain": [
              "([1, 2, 3],)"
            ]
          },
          "metadata": {},
          "execution_count": 3
        }
      ]
    },
    {
      "cell_type": "code",
      "metadata": {
        "id": "7raoraoH0lia",
        "colab": {
          "base_uri": "https://localhost:8080/"
        },
        "outputId": "8c0f5189-3169-429b-de43-7f1b8754aa78"
      },
      "source": [
        "type(e)"
      ],
      "execution_count": 4,
      "outputs": [
        {
          "output_type": "execute_result",
          "data": {
            "text/plain": [
              "tuple"
            ]
          },
          "metadata": {},
          "execution_count": 4
        }
      ]
    },
    {
      "cell_type": "code",
      "metadata": {
        "id": "Pzaw7D5J0ndw"
      },
      "source": [
        "tupla *= 3"
      ],
      "execution_count": 7,
      "outputs": []
    },
    {
      "cell_type": "code",
      "metadata": {
        "id": "kZl-N5G70zzW",
        "colab": {
          "base_uri": "https://localhost:8080/",
          "height": 329
        },
        "outputId": "13fecca7-2f57-4580-d502-1c709eb84e74"
      },
      "source": [
        "tupla"
      ],
      "execution_count": null,
      "outputs": [
        {
          "output_type": "execute_result",
          "data": {
            "text/plain": [
              "(6,\n",
              " True,\n",
              " 'tupla',\n",
              " 2.1,\n",
              " [1, 2, 3],\n",
              " 6,\n",
              " 6,\n",
              " True,\n",
              " 'tupla',\n",
              " 2.1,\n",
              " [1, 2, 3],\n",
              " 6,\n",
              " 6,\n",
              " True,\n",
              " 'tupla',\n",
              " 2.1,\n",
              " [1, 2, 3],\n",
              " 6)"
            ]
          },
          "metadata": {
            "tags": []
          },
          "execution_count": 19
        }
      ]
    },
    {
      "cell_type": "code",
      "metadata": {
        "id": "K8A7cHdB00o4",
        "colab": {
          "base_uri": "https://localhost:8080/"
        },
        "outputId": "491a5cdb-69ea-4d56-c5dc-ce76d3b89167"
      },
      "source": [
        "print(tupla)"
      ],
      "execution_count": 8,
      "outputs": [
        {
          "output_type": "stream",
          "name": "stdout",
          "text": [
            "(6, True, 'tupla', 2.1, [1, 2, 3], 6, 6, True, 'tupla', 2.1, [1, 2, 3], 6, 6, True, 'tupla', 2.1, [1, 2, 3], 6)\n"
          ]
        }
      ]
    },
    {
      "cell_type": "code",
      "metadata": {
        "id": "T1q8bF6t02Qh",
        "colab": {
          "base_uri": "https://localhost:8080/"
        },
        "outputId": "2e81e08c-117e-4af4-a25e-17eea880fdcf"
      },
      "source": [
        "tuple()"
      ],
      "execution_count": 9,
      "outputs": [
        {
          "output_type": "execute_result",
          "data": {
            "text/plain": [
              "()"
            ]
          },
          "metadata": {},
          "execution_count": 9
        }
      ]
    },
    {
      "cell_type": "code",
      "metadata": {
        "id": "EuPgTMJr1KBY",
        "colab": {
          "base_uri": "https://localhost:8080/"
        },
        "outputId": "54e03a77-1333-4556-f48a-dc39aa0bbc05"
      },
      "source": [
        "tuple([1, 2, 3, 4])"
      ],
      "execution_count": 10,
      "outputs": [
        {
          "output_type": "execute_result",
          "data": {
            "text/plain": [
              "(1, 2, 3, 4)"
            ]
          },
          "metadata": {},
          "execution_count": 10
        }
      ]
    },
    {
      "cell_type": "code",
      "metadata": {
        "id": "PhjBwOFF1M3o",
        "colab": {
          "base_uri": "https://localhost:8080/"
        },
        "outputId": "3eeb8323-c2cf-4ca0-b483-e29618b7e158"
      },
      "source": [
        "tuple('Maria Jose')"
      ],
      "execution_count": 11,
      "outputs": [
        {
          "output_type": "execute_result",
          "data": {
            "text/plain": [
              "('M', 'a', 'r', 'i', 'a', ' ', 'J', 'o', 's', 'e')"
            ]
          },
          "metadata": {},
          "execution_count": 11
        }
      ]
    },
    {
      "cell_type": "code",
      "metadata": {
        "id": "iicVZ4cm1QM4",
        "colab": {
          "base_uri": "https://localhost:8080/"
        },
        "outputId": "eaed2dc9-655c-4a26-e86b-5858d8ba23f3"
      },
      "source": [
        "tuple({'nombre': 'ronny', 'edad': 26})"
      ],
      "execution_count": 12,
      "outputs": [
        {
          "output_type": "execute_result",
          "data": {
            "text/plain": [
              "('nombre', 'edad')"
            ]
          },
          "metadata": {},
          "execution_count": 12
        }
      ]
    },
    {
      "cell_type": "code",
      "metadata": {
        "id": "sdXdjuYR1kHh",
        "colab": {
          "base_uri": "https://localhost:8080/"
        },
        "outputId": "087049ee-d3fc-4072-8acf-1440429e4c9d"
      },
      "source": [
        "print(tupla)"
      ],
      "execution_count": 13,
      "outputs": [
        {
          "output_type": "stream",
          "name": "stdout",
          "text": [
            "(6, True, 'tupla', 2.1, [1, 2, 3], 6, 6, True, 'tupla', 2.1, [1, 2, 3], 6, 6, True, 'tupla', 2.1, [1, 2, 3], 6)\n"
          ]
        }
      ]
    },
    {
      "cell_type": "code",
      "metadata": {
        "id": "4BBJW-4Y1nHL",
        "colab": {
          "base_uri": "https://localhost:8080/"
        },
        "outputId": "17ace7cf-ec70-4c0e-b451-9bed4f726b5b"
      },
      "source": [
        "tupla[:6]"
      ],
      "execution_count": 14,
      "outputs": [
        {
          "output_type": "execute_result",
          "data": {
            "text/plain": [
              "(6, True, 'tupla', 2.1, [1, 2, 3], 6)"
            ]
          },
          "metadata": {},
          "execution_count": 14
        }
      ]
    },
    {
      "cell_type": "code",
      "metadata": {
        "id": "i6UPBPQg1rTx",
        "colab": {
          "base_uri": "https://localhost:8080/",
          "height": 36
        },
        "outputId": "e83a50a4-ff39-4a65-da0e-26cbf60ffa81"
      },
      "source": [
        "tupla[2]"
      ],
      "execution_count": 15,
      "outputs": [
        {
          "output_type": "execute_result",
          "data": {
            "text/plain": [
              "'tupla'"
            ],
            "application/vnd.google.colaboratory.intrinsic+json": {
              "type": "string"
            }
          },
          "metadata": {},
          "execution_count": 15
        }
      ]
    },
    {
      "cell_type": "code",
      "metadata": {
        "id": "ibpywc1N1uV4",
        "colab": {
          "base_uri": "https://localhost:8080/"
        },
        "outputId": "841876e1-2d54-4db5-fc4c-4c9a7fab1aa6"
      },
      "source": [
        "print(tupla[::-1])"
      ],
      "execution_count": 16,
      "outputs": [
        {
          "output_type": "stream",
          "name": "stdout",
          "text": [
            "(6, [1, 2, 3], 2.1, 'tupla', True, 6, 6, [1, 2, 3], 2.1, 'tupla', True, 6, 6, [1, 2, 3], 2.1, 'tupla', True, 6)\n"
          ]
        }
      ]
    },
    {
      "cell_type": "code",
      "metadata": {
        "id": "Fqr0ICW713Ch",
        "colab": {
          "base_uri": "https://localhost:8080/",
          "height": 35
        },
        "outputId": "79cb1f0d-ffa3-426c-cb91-b9ceae9d1573"
      },
      "source": [
        "tupla[2::3]"
      ],
      "execution_count": null,
      "outputs": [
        {
          "output_type": "execute_result",
          "data": {
            "text/plain": [
              "('tupla', 6, 'tupla', 6, 'tupla', 6)"
            ]
          },
          "metadata": {
            "tags": []
          },
          "execution_count": 30
        }
      ]
    },
    {
      "cell_type": "code",
      "metadata": {
        "id": "oP57ftCn4Duf",
        "colab": {
          "base_uri": "https://localhost:8080/"
        },
        "outputId": "4826d95f-4ab7-481c-c7c4-9a478c518773"
      },
      "source": [
        "tupla[1:2]"
      ],
      "execution_count": 17,
      "outputs": [
        {
          "output_type": "execute_result",
          "data": {
            "text/plain": [
              "(True,)"
            ]
          },
          "metadata": {},
          "execution_count": 17
        }
      ]
    },
    {
      "cell_type": "code",
      "metadata": {
        "id": "IFz-o6aY4ZhT"
      },
      "source": [
        "# Crea una tupla que contenga únicamente aquellos modelos de autos \n",
        "# que comiencen por la  letra 'F' a partir de las siguientes tuplas:\n",
        "\n",
        "carros1 = ('Stelvio', ' Giulia', 'Aveo', 'Fiesta')\n",
        "\n",
        "carros2 = ('Veyron 16.4', 'Focus', 'Ateca', 'Tucson')\n",
        "\n",
        "carros3 = ('Forester', 'Ibiza', 'Fabia', 'Clio')"
      ],
      "execution_count": 18,
      "outputs": []
    },
    {
      "cell_type": "code",
      "metadata": {
        "id": "4FWcGbbF4o1G",
        "colab": {
          "base_uri": "https://localhost:8080/"
        },
        "outputId": "4874a82e-540e-4c97-e26d-eca9b041a5bc"
      },
      "source": [
        "carros4 = (carros1[-1], carros2[1], carros3[0], carros3[2])\n",
        "carros4"
      ],
      "execution_count": 19,
      "outputs": [
        {
          "output_type": "execute_result",
          "data": {
            "text/plain": [
              "('Fiesta', 'Focus', 'Forester', 'Fabia')"
            ]
          },
          "metadata": {},
          "execution_count": 19
        }
      ]
    },
    {
      "cell_type": "code",
      "metadata": {
        "id": "Wc8hfCGK5EF9",
        "colab": {
          "base_uri": "https://localhost:8080/"
        },
        "outputId": "065f2620-536a-4b11-8509-ed4aa2d7972a"
      },
      "source": [
        "carros4 = (carros1[-1],) + (carros2[1],) + (carros3[0],) + (carros3[2],)\n",
        "carros4"
      ],
      "execution_count": 20,
      "outputs": [
        {
          "output_type": "execute_result",
          "data": {
            "text/plain": [
              "('Fiesta', 'Focus', 'Forester', 'Fabia')"
            ]
          },
          "metadata": {},
          "execution_count": 20
        }
      ]
    },
    {
      "cell_type": "code",
      "metadata": {
        "id": "pe0YQ4d75faL",
        "colab": {
          "base_uri": "https://localhost:8080/",
          "height": 35
        },
        "outputId": "40cc0d25-60d1-4d45-acb9-731c97e60d44"
      },
      "source": [
        "carros1[-1:] + carros2[1:2] + carros3[:1] + carros3[2:3]"
      ],
      "execution_count": null,
      "outputs": [
        {
          "output_type": "execute_result",
          "data": {
            "text/plain": [
              "('Fiesta', 'Focus', 'Forester', 'Fabia')"
            ]
          },
          "metadata": {
            "tags": []
          },
          "execution_count": 40
        }
      ]
    },
    {
      "cell_type": "code",
      "metadata": {
        "id": "bTkk91fk5p9w",
        "colab": {
          "base_uri": "https://localhost:8080/",
          "height": 35
        },
        "outputId": "98c4aeca-4dd5-4f4a-fb95-8eb6619acf38"
      },
      "source": [
        "carros2[1:2]"
      ],
      "execution_count": null,
      "outputs": [
        {
          "output_type": "execute_result",
          "data": {
            "text/plain": [
              "('Focus',)"
            ]
          },
          "metadata": {
            "tags": []
          },
          "execution_count": 36
        }
      ]
    },
    {
      "cell_type": "code",
      "metadata": {
        "id": "dUsTd8ud5w-7",
        "colab": {
          "base_uri": "https://localhost:8080/",
          "height": 35
        },
        "outputId": "53633646-1ed2-44b8-bb4e-0e8aed90c5e1"
      },
      "source": [
        "carros3[:1]"
      ],
      "execution_count": null,
      "outputs": [
        {
          "output_type": "execute_result",
          "data": {
            "text/plain": [
              "('Forester',)"
            ]
          },
          "metadata": {
            "tags": []
          },
          "execution_count": 38
        }
      ]
    },
    {
      "cell_type": "code",
      "metadata": {
        "id": "4J4Ji94d55Om",
        "colab": {
          "base_uri": "https://localhost:8080/",
          "height": 35
        },
        "outputId": "573c82de-9d84-42a6-c40f-3a3d3fd8b2df"
      },
      "source": [
        "carros3[2:3]"
      ],
      "execution_count": null,
      "outputs": [
        {
          "output_type": "execute_result",
          "data": {
            "text/plain": [
              "('Fabia',)"
            ]
          },
          "metadata": {
            "tags": []
          },
          "execution_count": 39
        }
      ]
    },
    {
      "cell_type": "code",
      "metadata": {
        "id": "2nEk3VQM6BQ_",
        "colab": {
          "base_uri": "https://localhost:8080/"
        },
        "outputId": "6f2506b7-70a1-4d7c-9384-556d3dd958c8"
      },
      "source": [
        "#zip()\n",
        "\n",
        "a = [1, 2, 3, 4]\n",
        "b = ['a', 'b', 'c', 'd']\n",
        "\n",
        "zip(a, b)"
      ],
      "execution_count": 21,
      "outputs": [
        {
          "output_type": "execute_result",
          "data": {
            "text/plain": [
              "<zip at 0x7f0bdfd22b90>"
            ]
          },
          "metadata": {},
          "execution_count": 21
        }
      ]
    },
    {
      "cell_type": "code",
      "metadata": {
        "id": "vQYYNrjO6gOv",
        "colab": {
          "base_uri": "https://localhost:8080/"
        },
        "outputId": "c6bd7a22-ec6d-4a3d-89e9-5f00d3a86697"
      },
      "source": [
        "list(zip(a, b))"
      ],
      "execution_count": 22,
      "outputs": [
        {
          "output_type": "execute_result",
          "data": {
            "text/plain": [
              "[(1, 'a'), (2, 'b'), (3, 'c'), (4, 'd')]"
            ]
          },
          "metadata": {},
          "execution_count": 22
        }
      ]
    },
    {
      "cell_type": "code",
      "metadata": {
        "id": "oz_OjoM16pwV",
        "colab": {
          "base_uri": "https://localhost:8080/"
        },
        "outputId": "e8d1bb65-d00b-4572-f4cf-9d571d8ff8a6"
      },
      "source": [
        "tuple(zip(a, b))"
      ],
      "execution_count": 23,
      "outputs": [
        {
          "output_type": "execute_result",
          "data": {
            "text/plain": [
              "((1, 'a'), (2, 'b'), (3, 'c'), (4, 'd'))"
            ]
          },
          "metadata": {},
          "execution_count": 23
        }
      ]
    },
    {
      "cell_type": "code",
      "metadata": {
        "id": "Iz3deme461NQ"
      },
      "source": [],
      "execution_count": null,
      "outputs": []
    }
  ]
}